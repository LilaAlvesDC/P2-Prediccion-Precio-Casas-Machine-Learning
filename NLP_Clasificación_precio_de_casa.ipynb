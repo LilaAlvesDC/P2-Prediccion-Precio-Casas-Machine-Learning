{
  "cells": [
    {
      "cell_type": "markdown",
      "metadata": {
        "id": "EwSfMphNpsMZ"
      },
      "source": [
        "# Importamos librerías y datasets"
      ]
    },
    {
      "cell_type": "code",
      "execution_count": null,
      "metadata": {
        "colab": {
          "base_uri": "https://localhost:8080/"
        },
        "id": "Zd4dJDaVR6KW",
        "outputId": "0f5103d0-6e3b-400e-c89b-b04928e3dfda"
      },
      "outputs": [],
      "source": [
        "# Importamos las librerías que usaremos\n",
        "# Algebra lineal \n",
        "import numpy as np \n",
        "\n",
        "# Procesamiento de datos \n",
        "import pandas as pd \n",
        "\n",
        "# Visualización de datos \n",
        "import matplotlib.pyplot as plt \n",
        "import seaborn as sns \n",
        "%matplotlib inline \n",
        "\n",
        "# Módulo de estadística \n",
        "from numpy import percentile\n",
        "\n",
        "# Librerías para el procesamiento de texto \n",
        "!pip install nltk sklearn joblib\n",
        "import re\n",
        "import nltk\n",
        "from nltk.corpus import stopwords\n",
        "from nltk.stem import RSLPStemmer\n",
        "\n",
        "# Lista de palabras vacías \n",
        "nltk.download('stopwords')\n",
        "\n",
        "# Módulo para manejo de string\n",
        "import string\n",
        "\n",
        "# Librería para conectar con la API de www.datos.gov.co\n",
        "!pip install sodapy\n",
        "from sodapy import Socrata\n",
        "\n",
        "# Libreraía para preprocesamiento de texto para modelo NPL\n",
        "from sklearn.feature_extraction.text import CountVectorizer # Vectorización \n",
        "from sklearn.feature_extraction.text import TfidfTransformer # Relevancia\n",
        "\n",
        "# Librería para modelado de NPL\n",
        "from sklearn.pipeline import Pipeline \n",
        "from sklearn.naive_bayes import MultinomialNB\n",
        "from sklearn.model_selection import GridSearchCV\n",
        "from sklearn.linear_model import SGDClassifier\n",
        "\n",
        "# Evaluación del modelo \n",
        "from sklearn.metrics import classification_report"
      ]
    },
    {
      "cell_type": "code",
      "execution_count": 732,
      "metadata": {
        "colab": {
          "base_uri": "https://localhost:8080/"
        },
        "id": "9_N0l8fMe38B",
        "outputId": "280c0698-94cc-4284-f0f2-c80a4b540292"
      },
      "outputs": [],
      "source": [
        "def importar_data(path):\n",
        "    ''' \n",
        "    Esta función importa y muestra los datos nulos de los datasets proporcionados, \n",
        "    Requiere de la instalación de la librería pandas para funcionar correctamente \n",
        "\n",
        "    Parámetros: \n",
        "    ------------\n",
        "    :param path: La ruta donde está alojado el dataset en formato str  \n",
        "\n",
        "    Return: \n",
        "    ------------\n",
        "    dataset en formato DataFrame \n",
        "    '''\n",
        "    data = pd.read_csv(path)\n",
        "\n",
        "    data[['title', 'description']].astype(str)\n",
        "\n",
        "    return data"
      ]
    },
    {
      "cell_type": "code",
      "execution_count": 733,
      "metadata": {},
      "outputs": [],
      "source": [
        "# Importamos los datos de entrenamiento \n",
        "train = importar_data(r'C:\\Users\\USER\\Documents\\SOYHENRY\\LABS\\Proyecto individual de Machine Learning (Henry)\\data\\properties_colombia_train.csv')"
      ]
    },
    {
      "cell_type": "code",
      "execution_count": 734,
      "metadata": {
        "colab": {
          "base_uri": "https://localhost:8080/"
        },
        "id": "5UyV6th8UiQH",
        "outputId": "056e7116-d30e-4680-fb5e-d70be1567940"
      },
      "outputs": [],
      "source": [
        "# Importamos los datos de prueba\n",
        "test = importar_data(r'C:\\Users\\USER\\Documents\\SOYHENRY\\LABS\\Proyecto individual de Machine Learning (Henry)\\data\\properties_colombia_test.csv')"
      ]
    },
    {
      "cell_type": "markdown",
      "metadata": {
        "id": "gwJ_w6R4UiQI"
      },
      "source": [
        "**Metodología**\n",
        "\n",
        "Las columnas con menos campos vacíos en ambos dataset son 'title' y 'description', por tanto aplicaremos un modelo de NPL que aproveche toda la información contenida en el texto de los anuncios para identificar patrones en el lenguaje natural que nos permita predecir y clasificar si una propiedad está cara o barata. \n",
        "\n",
        "En caso que se desee aplicar otro modelo de clasificación se sugiere emplear NPL del texto para imputar los datos faltantes en las columnas del dataset. "
      ]
    },
    {
      "cell_type": "markdown",
      "metadata": {
        "id": "ffiiOGpcl4Jz"
      },
      "source": [
        "# **LIMPIEZA DE DATOS**\n",
        "\n"
      ]
    },
    {
      "cell_type": "markdown",
      "metadata": {
        "id": "NAil4fCyow0I"
      },
      "source": [
        "### 1. Convertimos de USD a COP"
      ]
    },
    {
      "cell_type": "code",
      "execution_count": 735,
      "metadata": {},
      "outputs": [],
      "source": [
        "def convertir_USD_a_COP(dataset): \n",
        "    '''\n",
        "    Esta función se conecta vía API a una base de datos oficial \n",
        "    de Colombia para consultar el tipo de cambio en las fechas de los datos del dataset proporcionado \n",
        "    en la columna precios y los convierte de dólares (USD) a pesos colombianos (COP)\n",
        "    \n",
        "    Parámetros: \n",
        "    --------------\n",
        "    : param dataset: DataFrame que contenga los datos a analizar \n",
        "\n",
        "    Return: \n",
        "    --------------\n",
        "    Nueva columna con \"currency\" con los nuevos valores de precios, expresados en pesos colombianos (COP)\n",
        "    '''\n",
        "\n",
        "    # Buscamos los datos expresados en USD\n",
        "    filas_en_USD = len(dataset[dataset['currency'] == 'USD'])\n",
        "    print('Cantidad de filas en USD:', filas_en_USD)\n",
        "\n",
        "    if filas_en_USD > 0:\n",
        "\n",
        "        # Extraemos el rango de fecha de los datos en USD\n",
        "        dataset_copy = dataset.copy()\n",
        "        # Convertimos la columna con la fecha de referencia en formato datetime \n",
        "        dataset_copy['start_date'] = pd.to_datetime(dataset_copy['start_date'])\n",
        "\n",
        "        # Identificamos el rango de fechas de los datos expresados en USD \n",
        "        inicio = dataset_copy['start_date'][dataset_copy['currency'] == 'USD'].unique().min()\n",
        "        fin = dataset_copy['start_date'][dataset_copy['currency'] == 'USD'].unique().max()\n",
        "\n",
        "        print('Fecha inicio de los datos expresados en USD:', inicio)\n",
        "        print('Fecha fin de los datos expresados en USD: ', fin)\n",
        "\n",
        "        # Realizamos una conexión API con la base de datos oficial de Colombia para visualizar el tipo de cambio USD/COP\n",
        "        client = Socrata(\"www.datos.gov.co\", None)\n",
        "        results = client.get(\"mcec-87by\", limit=1000)\n",
        "        Tipo_Cambio_Colombia = pd.DataFrame.from_records(results)\n",
        "\n",
        "        # Convertimos la columna de referencia en formato de fecha\n",
        "        Tipo_Cambio_Colombia['vigenciadesde'] = pd.to_datetime(Tipo_Cambio_Colombia['vigenciadesde'])\n",
        "\n",
        "        # Filtramos las cotizaciones en el mismo rango de fecha de nuestro dataset y calculamos la media \n",
        "        subset_tipo_cambio_Colombia = Tipo_Cambio_Colombia['valor'][(Tipo_Cambio_Colombia['vigenciadesde'] >= inicio) & (Tipo_Cambio_Colombia['vigenciadesde'] <= fin)]\n",
        "        subset_tipo_cambio_Colombia = (subset_tipo_cambio_Colombia).astype(float)\n",
        "        Tipo_cambio_COP = subset_tipo_cambio_Colombia.mean()\n",
        "        Desvío_estándar_COP = subset_tipo_cambio_Colombia.std()\n",
        "\n",
        "        print('\\nTipo de Cambo medio de USD/COP desde 2020-08-08 hasta 2020-10-26 =', round(Tipo_cambio_COP,2))\n",
        "        print('El desvío estándar del tipo de cambio de USD/COP desde 2020-08-08 hasta 2020-10-26 =', round(Desvío_estándar_COP,2))\n",
        "        # Admitimos un margen de error de ≈ 1%\n",
        "\n",
        "        # Convertimos los valores expresados en USD en COP en el dataset de entrenamiento, \n",
        "        # ya que en el dataset de test el campo precio está vacío\n",
        "        # El valor de refrencia es el valor promedio del USD en el rango de fecha de los datos en USD del dataset principal\n",
        "        precios_en_USD = dataset['price'][dataset['currency'] == 'USD']\n",
        "        precios_en_COP = precios_en_USD * Tipo_cambio_COP\n",
        "        dataset['price'][dataset['currency'] == 'USD'] = precios_en_COP\n",
        "\n",
        "    return 'Antes', precios_en_USD, 'Después', precios_en_COP"
      ]
    },
    {
      "cell_type": "code",
      "execution_count": 736,
      "metadata": {},
      "outputs": [
        {
          "name": "stdout",
          "output_type": "stream",
          "text": [
            "Cantidad de filas en USD: 8\n",
            "Fecha inicio de los datos expresados en USD: 2020-08-08T00:00:00.000000000\n",
            "Fecha fin de los datos expresados en USD:  2020-10-26T00:00:00.000000000\n"
          ]
        },
        {
          "name": "stderr",
          "output_type": "stream",
          "text": [
            "WARNING:root:Requests made without an app_token will be subject to strict throttling limits.\n"
          ]
        },
        {
          "name": "stdout",
          "output_type": "stream",
          "text": [
            "\n",
            "Tipo de Cambo medio de USD/COP desde 2020-08-08 hasta 2020-10-26 = 3790.54\n",
            "El desvío estándar del tipo de cambio de USD/COP desde 2020-08-08 hasta 2020-10-26 = 64.83\n"
          ]
        },
        {
          "name": "stderr",
          "output_type": "stream",
          "text": [
            "C:\\Users\\USER\\AppData\\Local\\Temp\\ipykernel_21156\\336445081.py:57: SettingWithCopyWarning: \n",
            "A value is trying to be set on a copy of a slice from a DataFrame\n",
            "\n",
            "See the caveats in the documentation: https://pandas.pydata.org/pandas-docs/stable/user_guide/indexing.html#returning-a-view-versus-a-copy\n",
            "  dataset['price'][dataset['currency'] == 'USD'] = precios_en_COP\n"
          ]
        },
        {
          "data": {
            "text/plain": [
              "('Antes',\n",
              " 5902        750000.0\n",
              " 49196      1960000.0\n",
              " 56159       850000.0\n",
              " 56522      1017000.0\n",
              " 116979     1143711.0\n",
              " 136236    65999999.0\n",
              " 137025     3000000.0\n",
              " 167143     9750000.0\n",
              " Name: price, dtype: float64,\n",
              " 'Después',\n",
              " 5902      2.842908e+09\n",
              " 49196     7.429465e+09\n",
              " 56159     3.221962e+09\n",
              " 56522     3.854983e+09\n",
              " 116979    4.335286e+09\n",
              " 136236    2.501759e+11\n",
              " 137025    1.137163e+10\n",
              " 167143    3.695780e+10\n",
              " Name: price, dtype: float64)"
            ]
          },
          "execution_count": 736,
          "metadata": {},
          "output_type": "execute_result"
        }
      ],
      "source": [
        "convertir_USD_a_COP(train)"
      ]
    },
    {
      "cell_type": "markdown",
      "metadata": {
        "id": "vI155EmVoKRQ"
      },
      "source": [
        "## 2. Selección y limpieza de columnas que se usarán en el modelo"
      ]
    },
    {
      "cell_type": "code",
      "execution_count": 737,
      "metadata": {},
      "outputs": [],
      "source": [
        "def crear_columna_text(dataset): \n",
        "    '''\n",
        "    Esta función crea un nuevo dataset solo con las columnas 'title' y 'description' y las concatena para formar \n",
        "    una nueva columna llamada texto, además comprueba y elimina datos nulos en las columnas. \n",
        "\n",
        "    Parámetros: \n",
        "    --------------\n",
        "    : param dataset: DataFrame de datos de entrenamiento y de prueba que contenga los datos limpiar \n",
        "\n",
        "    Return: \n",
        "    --------------\n",
        "    Nuevo dataset con apenas las columnas 'text' y 'price'\n",
        "    '''    \n",
        "\n",
        "    # Creamos una nueva columna donde concatenamos título y descripción \n",
        "    dataset['text'] = dataset['title'].fillna('').fillna('') + ' ' + dataset['description'].fillna('')\n",
        "\n",
        "    if dataset is train:\n",
        "\n",
        "        # Creamos el dataset final\n",
        "        dataset = dataset[['text', 'price']]\n",
        "\n",
        "        # Eliminamos todos los campos nulos solo de al dataset de entrenamiento\n",
        "        dataset = dataset.dropna(how='any', axis=0)\n",
        "    \n",
        "    else: \n",
        "\n",
        "        # Creamos el dataset final\n",
        "        dataset = dataset[['text']]\n",
        "\n",
        "    # Validamos que no existan datos nulos en el dataset de \n",
        "    print(dataset.isna().sum())\n",
        "    print('Cantidad de filas: ',len(dataset))\n",
        "\n",
        "    return dataset"
      ]
    },
    {
      "cell_type": "code",
      "execution_count": 738,
      "metadata": {},
      "outputs": [
        {
          "name": "stdout",
          "output_type": "stream",
          "text": [
            "text     0\n",
            "price    0\n",
            "dtype: int64\n",
            "Cantidad de filas:  197486\n",
            "text    0\n",
            "dtype: int64\n",
            "Cantidad de filas:  65850\n"
          ]
        }
      ],
      "source": [
        "data_train_text = crear_columna_text(train)\n",
        "data_test_text = crear_columna_text(test)"
      ]
    },
    {
      "cell_type": "markdown",
      "metadata": {
        "id": "LRiMz-CBoXtv"
      },
      "source": [
        "## 3. Eliminamos los outliers del dataset de entrenamiento"
      ]
    },
    {
      "cell_type": "code",
      "execution_count": 739,
      "metadata": {},
      "outputs": [],
      "source": [
        "def eliminar_outliers(dataset): \n",
        "    '''\n",
        "    Esta función identifica los outliers de la columna 'price del dataset de entrenamiento y crea un nuevo dataset \n",
        "    solo con los valores dentro del rango intercuartílico de 10% \n",
        "\n",
        "    Parámetros: \n",
        "    --------------\n",
        "    : param dataset: Solo DataFrame de entrenamiento que contenga la columna 'price'\n",
        "\n",
        "    Return: \n",
        "    --------------\n",
        "    * Percentiles\n",
        "    * Outliers identificados\n",
        "    * Observaciones no outliers\n",
        "    * Porcentaje de outliers\n",
        "    * Porcentaje de datos descartados \n",
        "    * Información de dataset \n",
        "    * DataFrame \n",
        "    \n",
        "    '''    \n",
        "    print('---------- OUTLIERS --------------')\n",
        "    # Calculamos el rango intercuartílico \n",
        "    q10, q90 = percentile(dataset['price'], 10), percentile(dataset['price'], 90)\n",
        "    rango_intercuartícilo_10 = q90 - q10\n",
        "    print('\\nPercentiles: 10th=%.3f, 90th=%.3f, IQR=%.3f' % (q10, q90, rango_intercuartícilo_10))\n",
        "\n",
        "    # Calculamos los outliers cutoff\n",
        "    cut_off = rango_intercuartícilo_10 * 1.5\n",
        "    lower, upper = q10 - cut_off, q90 + cut_off\n",
        "\n",
        "    # Identificamos los outliers \n",
        "    outliers = [price for price in dataset['price'] if price < lower or price > upper]\n",
        "    print('\\nOutliers identificados: %d' % len(outliers))\n",
        "\n",
        "    # Eliminamos los outliers\n",
        "    outliers_removed = [x for x in dataset['price'] if x >= lower and x <= upper]\n",
        "    print('\\nObservaciones no outliers: %d' % len(outliers_removed))\n",
        "\n",
        "    # Calculamos el porcentaje de outliers\n",
        "    porc_ouliers = len(outliers)/len(train)\n",
        "    print('\\nPorcentaje de outliers: ', round(porc_ouliers,4), '%')\n",
        "\n",
        "    # Removemos los outliers y las columnas title y description de nuestro dataset de entrenamiento\n",
        "    dataset = dataset[((dataset['price'] < lower) | (dataset['price'] > upper) == False)]\n",
        "\n",
        "    # Chequemos el porcentaje de datos descartados\n",
        "    datos_descartados = ( 1 - (len(dataset)/(len(train))))*100\n",
        "    print('\\nPorcentaje de datos descartados: ', round(datos_descartados,2), '%')\n",
        "\n",
        "    print('----------------------------------')\n",
        "\n",
        "    # Verificamos que los cambios se hayan aplicado correctamente \n",
        "    print('\\nLa información de los datos de entrenamiento es: ', '\\n', dataset.info())\n",
        "\n",
        "    # Reseteamos los indices \n",
        "    dataset.reset_index(inplace=True)\n",
        "    dataset = dataset[['text', 'price']]\n",
        "\n",
        "    return dataset"
      ]
    },
    {
      "cell_type": "code",
      "execution_count": 740,
      "metadata": {
        "colab": {
          "base_uri": "https://localhost:8080/"
        },
        "id": "rPZiM25SUiQY",
        "outputId": "39bc9a63-ef23-4e90-b097-1e10b17079f0"
      },
      "outputs": [
        {
          "name": "stdout",
          "output_type": "stream",
          "text": [
            "---------- OUTLIERS --------------\n",
            "\n",
            "Percentiles: 10th=135000000.000, 90th=1200000000.000, IQR=1065000000.000\n",
            "\n",
            "Outliers identificados: 5567\n",
            "\n",
            "Observaciones no outliers: 191919\n",
            "\n",
            "Porcentaje de outliers:  0.0282 %\n",
            "\n",
            "Porcentaje de datos descartados:  2.85 %\n",
            "----------------------------------\n",
            "<class 'pandas.core.frame.DataFrame'>\n",
            "Int64Index: 191919 entries, 1 to 197548\n",
            "Data columns (total 2 columns):\n",
            " #   Column  Non-Null Count   Dtype  \n",
            "---  ------  --------------   -----  \n",
            " 0   text    191919 non-null  object \n",
            " 1   price   191919 non-null  float64\n",
            "dtypes: float64(1), object(1)\n",
            "memory usage: 4.4+ MB\n",
            "\n",
            "La información de los datos de entrenamiento es:  \n",
            " None\n"
          ]
        }
      ],
      "source": [
        "data_train_text = eliminar_outliers(data_train_text)"
      ]
    },
    {
      "cell_type": "markdown",
      "metadata": {
        "id": "0s19s8Hyoh_o"
      },
      "source": [
        "## 4. Creamos la columna target"
      ]
    },
    {
      "cell_type": "code",
      "execution_count": 741,
      "metadata": {},
      "outputs": [],
      "source": [
        "def columna_target(dataset): \n",
        "    '''\n",
        "    Esta función crea una columna llamada 'target' con valores binarios 0 y 1, identifican la propiedad como cara o barata, esto es: \n",
        "    cara = 1\n",
        "    barata = 0 \n",
        "\n",
        "    La manera es que lo calcula es tomando como referencia el precio promedio de la columna precio de los datos de entrenamiento \n",
        "    y separa aquellos valores que superen el precio promedio y les asigna el valor 1, aquellos que están por debajo del pecio promedio\n",
        "    le asigna el valor 0, en formato 'int'. \n",
        "\n",
        "    Parámetros: \n",
        "    --------------\n",
        "    : param dataset: Solo DataFrame de entrenamiento que contenga la columna 'price'\n",
        "\n",
        "    Return: \n",
        "    --------------\n",
        "    Nuevo dataframe con solo la columna 'text' y 'target'\n",
        "    '''    \n",
        "    \n",
        "    # Calculamos el precio promedio de la columna precio\n",
        "    precio_promedio = dataset['price'].mean()\n",
        "    print('\\nEl precio promedio de las propiedades es: ', round(precio_promedio,2))\n",
        "\n",
        "    # Creamos la columna target y le colocamos el valor de cero por defecto \n",
        "    dataset['target'] = 0\n",
        "\n",
        "\n",
        "    # Asignamos el alor de 1 a los precios superiores al precio promedio\n",
        "    for i in range(len(dataset['price'])):\n",
        "        precio = dataset.loc[i, 'price']\n",
        "        if precio >= precio_promedio:\n",
        "            dataset.loc[i, 'target'] = 1\n",
        "\n",
        "    propiedades_caras = dataset[dataset['target']==1]\n",
        "    propiedades_baratas = dataset[dataset['target']==0]\n",
        "\n",
        "    print('Cantidad de Propiedades baratas: ', len(propiedades_baratas))\n",
        "    print('Cantidad de Propiedades caras: ', len(propiedades_caras))\n",
        "\n",
        "    dataset['target'].value_counts().plot(kind = 'pie',explode=[0, 0.1],figsize=(6, 6),autopct='%1.1f%%',shadow=True)\n",
        "    plt.title('Barato vs Caro')\n",
        "    plt.legend(['Barato', 'Caro'])\n",
        "    plt.show()\n",
        "\n",
        "    dataset = dataset[['text', 'target']]\n",
        "\n",
        "    return dataset"
      ]
    },
    {
      "cell_type": "code",
      "execution_count": 742,
      "metadata": {
        "colab": {
          "base_uri": "https://localhost:8080/",
          "height": 206
        },
        "id": "OVXelh2LUiQb",
        "outputId": "79c34aca-4fa7-4173-c092-1f6807a7f83e"
      },
      "outputs": [
        {
          "name": "stdout",
          "output_type": "stream",
          "text": [
            "\n",
            "El precio promedio de las propiedades es:  472040822.35\n",
            "Cantidad de Propiedades baratas:  132480\n",
            "Cantidad de Propiedades caras:  59439\n"
          ]
        },
        {
          "data": {
            "image/png": "[encoded data removed]",
            "text/plain": [
              "<Figure size 600x600 with 1 Axes>"
            ]
          },
          "metadata": {},
          "output_type": "display_data"
        },
        {
          "data": {
            "text/html": [
              "<div>\n",
              "<style scoped>\n",
              "    .dataframe tbody tr th:only-of-type {\n",
              "        vertical-align: middle;\n",
              "    }\n",
              "\n",
              "    .dataframe tbody tr th {\n",
              "        vertical-align: top;\n",
              "    }\n",
              "\n",
              "    .dataframe thead th {\n",
              "        text-align: right;\n",
              "    }\n",
              "</style>\n",
              "<table border=\"1\" class=\"dataframe\">\n",
              "  <thead>\n",
              "    <tr style=\"text-align: right;\">\n",
              "      <th></th>\n",
              "      <th>text</th>\n",
              "      <th>target</th>\n",
              "    </tr>\n",
              "  </thead>\n",
              "  <tbody>\n",
              "    <tr>\n",
              "      <th>0</th>\n",
              "      <td>APARTAMENTO EN VENTA, BOGOTA-CIUDAD JARDIN NOR...</td>\n",
              "      <td>1</td>\n",
              "    </tr>\n",
              "    <tr>\n",
              "      <th>1</th>\n",
              "      <td>Apartamento En Venta En Bogota Bella Suiza Cod...</td>\n",
              "      <td>0</td>\n",
              "    </tr>\n",
              "    <tr>\n",
              "      <th>2</th>\n",
              "      <td>SE VENDE LOCAL COMERCIAL EN CABECERA DEL LLANO...</td>\n",
              "      <td>1</td>\n",
              "    </tr>\n",
              "    <tr>\n",
              "      <th>3</th>\n",
              "      <td>Apartamento en Venta Ubicado en ITAGUI Codigo ...</td>\n",
              "      <td>0</td>\n",
              "    </tr>\n",
              "    <tr>\n",
              "      <th>4</th>\n",
              "      <td>Venta apartamento en Via Panamericana, Manizal...</td>\n",
              "      <td>0</td>\n",
              "    </tr>\n",
              "    <tr>\n",
              "      <th>...</th>\n",
              "      <td>...</td>\n",
              "      <td>...</td>\n",
              "    </tr>\n",
              "    <tr>\n",
              "      <th>191914</th>\n",
              "      <td>LM: VENDO APARTAMENTO EN TORRES DE TINTALA VEN...</td>\n",
              "      <td>0</td>\n",
              "    </tr>\n",
              "    <tr>\n",
              "      <th>191915</th>\n",
              "      <td>Oficina En Venta En Bogota El Retiro Cod. VREI...</td>\n",
              "      <td>0</td>\n",
              "    </tr>\n",
              "    <tr>\n",
              "      <th>191916</th>\n",
              "      <td>Local En Venta En Cali Nueva Tequendama CodVBS...</td>\n",
              "      <td>1</td>\n",
              "    </tr>\n",
              "    <tr>\n",
              "      <th>191917</th>\n",
              "      <td>VENTA CASALOTE FONTIBON CASALOTE BIEN UBICADO ...</td>\n",
              "      <td>0</td>\n",
              "    </tr>\n",
              "    <tr>\n",
              "      <th>191918</th>\n",
              "      <td>1 Apartamento en remate aprovecha nuestras ofe...</td>\n",
              "      <td>0</td>\n",
              "    </tr>\n",
              "  </tbody>\n",
              "</table>\n",
              "<p>191919 rows × 2 columns</p>\n",
              "</div>"
            ],
            "text/plain": [
              "                                                     text  target\n",
              "0       APARTAMENTO EN VENTA, BOGOTA-CIUDAD JARDIN NOR...       1\n",
              "1       Apartamento En Venta En Bogota Bella Suiza Cod...       0\n",
              "2       SE VENDE LOCAL COMERCIAL EN CABECERA DEL LLANO...       1\n",
              "3       Apartamento en Venta Ubicado en ITAGUI Codigo ...       0\n",
              "4       Venta apartamento en Via Panamericana, Manizal...       0\n",
              "...                                                   ...     ...\n",
              "191914  LM: VENDO APARTAMENTO EN TORRES DE TINTALA VEN...       0\n",
              "191915  Oficina En Venta En Bogota El Retiro Cod. VREI...       0\n",
              "191916  Local En Venta En Cali Nueva Tequendama CodVBS...       1\n",
              "191917  VENTA CASALOTE FONTIBON CASALOTE BIEN UBICADO ...       0\n",
              "191918  1 Apartamento en remate aprovecha nuestras ofe...       0\n",
              "\n",
              "[191919 rows x 2 columns]"
            ]
          },
          "execution_count": 742,
          "metadata": {},
          "output_type": "execute_result"
        }
      ],
      "source": [
        "columna_target(data_train_text)"
      ]
    },
    {
      "cell_type": "markdown",
      "metadata": {
        "id": "yP9HNM8hLL_Q"
      },
      "source": [
        "# **EDA**"
      ]
    },
    {
      "cell_type": "code",
      "execution_count": 743,
      "metadata": {
        "colab": {
          "base_uri": "https://localhost:8080/",
          "height": 175
        },
        "id": "hJ-Kbx4pLLWi",
        "outputId": "a5d80528-e657-404d-f3bd-675757be0dcc"
      },
      "outputs": [
        {
          "data": {
            "text/html": [
              "<div>\n",
              "<style scoped>\n",
              "    .dataframe tbody tr th:only-of-type {\n",
              "        vertical-align: middle;\n",
              "    }\n",
              "\n",
              "    .dataframe tbody tr th {\n",
              "        vertical-align: top;\n",
              "    }\n",
              "\n",
              "    .dataframe thead tr th {\n",
              "        text-align: left;\n",
              "    }\n",
              "\n",
              "    .dataframe thead tr:last-of-type th {\n",
              "        text-align: right;\n",
              "    }\n",
              "</style>\n",
              "<table border=\"1\" class=\"dataframe\">\n",
              "  <thead>\n",
              "    <tr>\n",
              "      <th></th>\n",
              "      <th colspan=\"8\" halign=\"left\">price</th>\n",
              "    </tr>\n",
              "    <tr>\n",
              "      <th></th>\n",
              "      <th>count</th>\n",
              "      <th>mean</th>\n",
              "      <th>std</th>\n",
              "      <th>min</th>\n",
              "      <th>25%</th>\n",
              "      <th>50%</th>\n",
              "      <th>75%</th>\n",
              "      <th>max</th>\n",
              "    </tr>\n",
              "    <tr>\n",
              "      <th>target</th>\n",
              "      <th></th>\n",
              "      <th></th>\n",
              "      <th></th>\n",
              "      <th></th>\n",
              "      <th></th>\n",
              "      <th></th>\n",
              "      <th></th>\n",
              "      <th></th>\n",
              "    </tr>\n",
              "  </thead>\n",
              "  <tbody>\n",
              "    <tr>\n",
              "      <th>0</th>\n",
              "      <td>132480.0</td>\n",
              "      <td>2.504424e+08</td>\n",
              "      <td>1.063373e+08</td>\n",
              "      <td>0.0</td>\n",
              "      <td>165000000.0</td>\n",
              "      <td>245000000.0</td>\n",
              "      <td>3.300000e+08</td>\n",
              "      <td>4.720000e+08</td>\n",
              "    </tr>\n",
              "    <tr>\n",
              "      <th>1</th>\n",
              "      <td>59439.0</td>\n",
              "      <td>9.659483e+08</td>\n",
              "      <td>5.028565e+08</td>\n",
              "      <td>472080000.0</td>\n",
              "      <td>600000000.0</td>\n",
              "      <td>780000000.0</td>\n",
              "      <td>1.200000e+09</td>\n",
              "      <td>2.797010e+09</td>\n",
              "    </tr>\n",
              "  </tbody>\n",
              "</table>\n",
              "</div>"
            ],
            "text/plain": [
              "           price                                                        \\\n",
              "           count          mean           std          min          25%   \n",
              "target                                                                   \n",
              "0       132480.0  2.504424e+08  1.063373e+08          0.0  165000000.0   \n",
              "1        59439.0  9.659483e+08  5.028565e+08  472080000.0  600000000.0   \n",
              "\n",
              "                                                 \n",
              "                50%           75%           max  \n",
              "target                                           \n",
              "0       245000000.0  3.300000e+08  4.720000e+08  \n",
              "1       780000000.0  1.200000e+09  2.797010e+09  "
            ]
          },
          "execution_count": 743,
          "metadata": {},
          "output_type": "execute_result"
        }
      ],
      "source": [
        "# Exploramos la cantidad de datos en cada target \n",
        "data_train_text.groupby('target').describe()"
      ]
    },
    {
      "cell_type": "code",
      "execution_count": 744,
      "metadata": {
        "id": "X2BzquSwLyZp"
      },
      "outputs": [],
      "source": [
        "# Creamos una columna que nos indique la londigud de las descripciones \n",
        "data_train_text['longitud'] = data_train_text['text'].apply(len)"
      ]
    },
    {
      "cell_type": "code",
      "execution_count": 745,
      "metadata": {
        "colab": {
          "base_uri": "https://localhost:8080/",
          "height": 402
        },
        "id": "UeKaGySvMP8f",
        "outputId": "3be13451-4013-496b-c43a-a3aef56397d1"
      },
      "outputs": [
        {
          "data": {
            "text/plain": [
              "Text(0.5, 1.0, 'Longitud de texto vs. Cantidad de textos')"
            ]
          },
          "execution_count": 745,
          "metadata": {},
          "output_type": "execute_result"
        },
        {
          "data": {
            "image/png": "[encoded data removed]",
            "text/plain": [
              "<Figure size 500x500 with 1 Axes>"
            ]
          },
          "metadata": {},
          "output_type": "display_data"
        }
      ],
      "source": [
        "# Visualizamos la distribución de la longitud de las descripciones\n",
        "sns.displot(data_train_text[\"longitud\"], bins=50)\n",
        "\n",
        "plt.xlabel('Longitud de texto')\n",
        "plt.ylabel('Frecuencia de textos')\n",
        "plt.title('Longitud de texto vs. Cantidad de textos')"
      ]
    },
    {
      "cell_type": "code",
      "execution_count": 746,
      "metadata": {
        "colab": {
          "base_uri": "https://localhost:8080/"
        },
        "id": "HzJNdYDCMt7g",
        "outputId": "0f1d4129-570a-4887-d20e-635d782db3b9"
      },
      "outputs": [
        {
          "data": {
            "text/plain": [
              "count    191919.000000\n",
              "mean        456.110125\n",
              "std         284.733461\n",
              "min           2.000000\n",
              "25%         281.000000\n",
              "50%         407.000000\n",
              "75%         553.000000\n",
              "max        8470.000000\n",
              "Name: longitud, dtype: float64"
            ]
          },
          "execution_count": 746,
          "metadata": {},
          "output_type": "execute_result"
        }
      ],
      "source": [
        "# Exploramos las métricas de la longitud de las descripciones de las propiedades \n",
        "data_train_text[\"longitud\"].describe()"
      ]
    },
    {
      "cell_type": "code",
      "execution_count": 747,
      "metadata": {
        "colab": {
          "base_uri": "https://localhost:8080/",
          "height": 37
        },
        "id": "HRssHQTfNU-t",
        "outputId": "444f11d7-a514-41f8-95d6-fc8671ec0be7"
      },
      "outputs": [
        {
          "data": {
            "text/plain": [
              "'✨ ✨'"
            ]
          },
          "execution_count": 747,
          "metadata": {},
          "output_type": "execute_result"
        }
      ],
      "source": [
        "# Visualizamos el mensaje con la descripción con mínima longitud\n",
        "data_train_text[data_train_text[\"longitud\"]==3]['text'].iloc[0]"
      ]
    },
    {
      "cell_type": "code",
      "execution_count": 748,
      "metadata": {
        "colab": {
          "base_uri": "https://localhost:8080/",
          "height": 178
        },
        "id": "LgQWewy8M6Po",
        "outputId": "8bba7fba-dfd8-4ae8-df4a-06abbeb8f03d"
      },
      "outputs": [
        {
          "data": {
            "text/plain": [
              "'Apartamento en Venta en Loma de Los Bernal  Esta propiedad se encuentra ubicada la Loma de los Bernal, un sector tranquilo del barrio Belén, a sus alrededores se encuentra el supermercado EURO, Parque Belén Buena Vista, mirador de los Bernal, Colegio San Francisco Javier, Cerro las tres cruces, Coomeva EPS, Mall gran vía, Parque principal aliadas, Torre Médica las Américas, cuenta con un buen servicio de transporte público, entre ellos la estación \"LA PALMA BELÉN\" de la nueva línea en construcción del metroplus, lo que hace que el sector sea apetecido por aquellos que quieren vivir en un espacio de calma, naturaleza y armonía.\\n\\nLa unidad cuenta con vigilancia las 24 horas, shut de basuras, 2 ascensores por torre con planta de emergencia, circuito cerrado de televisión y cámaras. Sus áreas sociales son amplias y variadas, cuenta con 2 sitios de piscina, ambas con piscinas para adultos y para niños, sauna, turco, gimnasio bien dotado, salón social, salón de squash, pista de squite, juegos infantil, cancha multifuncional, senderos peatonales y amplias zonas verdes con jardines y árboles frutales (zapotes, naranjas, mandarinas, limones, mangos y feijoa); estos espacios son ideales para que disfrutes con tu familia y se sientan viviendo en un club o centro recreacional.\\n\\nEl apartamento se ubica en el piso 12 de la torre, diagonal a la puerta del ascensor. Al ingresar a la vivienda, lo primero que encuentras es la cocina, la cual se ubica hacia la izquierda, es integral con encimera de mármol y al fondo de esta área, se localiza la zona de ropas y lavandería de buen tamaño. El espacio de la sala y el comedor es muy amplio, se comunica con un balcón, al cual permite el ingreso de aire fresco y mucha luz natural; la cocina está separada de la sala por un muro, el cual podría ser modificado en una barra americana, para darle un concepto de espacio abierto a este ambiente. \\xa0Hacia la derecha del pasillo se encuentra, inicialmente el baño social, es cual tiene ducha con cabina en vidrio templado y contiguo, está el área de la biblioteca, la cual es de un buen tamaño y podría incluso convertirse en una cuarta habitación; sobre la izquierda del pasillo se ubican dos habitaciones, ambas con closet empotrado y con muy buena iluminación; por último, la habitación principal, la cual está al fondo del corredor, es la más amplia y su ventanal también es más grandes por lo que el ambiente fresco e iluminado siempre estarán presentes, este espacio cuenta con vestier y un baño privado con las mismas características del anterior. La propiedad posee además parqueadero privado en el sótano. \\n\\nEste es un apartamento ideal para quienes desean compartir en familia momentos encantadores, con las características perfectas para brindar armonía y descanso.\\n\\nSoy agente inmobiliaria RE/MAX, si estás interesado no dudes en contactarme.\\n\\nEsta propiedad se encuentra ubicada la Loma de los Bernal, un sector tranquilo del barrio Belén, a sus alrededores se encuentra el supermercado EURO, Parque Belén Buena Vista, mirador de los Bernal, Colegio San Francisco Javier, Cerro las tres cruces, Coomeva EPS, Mall gran vía, Parque principal aliadas, Torre Médica las Américas, cuenta con un buen servicio de transporte público, entre ellos la estación \"LA PALMA BELÉN\" de la nueva línea en construcción del metroplus, lo que hace que el sector sea apetecido por aquellos que quieren vivir en un espacio de calma, naturaleza y armonía.\\n\\nLa unidad cuenta con vigilancia las 24 horas, shut de basuras, 2 ascensores por torre con planta de emergencia, circuito cerrado de televisión y cámaras. Sus áreas sociales son amplias y variadas, cuenta con 2 sitios de piscina, ambas con piscinas para adultos y para niños, sauna, turco, gimnasio bien dotado, salón social, salón de squash, pista de squite, juegos infantil, cancha multifuncional, senderos peatonales y amplias zonas verdes con jardines y árboles frutales (zapotes, naranjas, mandarinas, limones, mangos y feijoa); estos espacios son ideales para que disfrutes con tu familia y se sientan viviendo en un club o centro recreacional.\\n\\nEl apartamento se ubica en el piso 12 de la torre, diagonal a la puerta del ascensor. Al ingresar a la vivienda, lo primero que encuentras es la cocina, la cual se ubica hacia la izquierda, es integral con encimera de mármol y al fondo de esta área, se localiza la zona de ropas y lavandería de buen tamaño. El espacio de la sala y el comedor es muy amplio, se comunica con un balcón, al cual permite el ingreso de aire fresco y mucha luz natural; la cocina está separada de la sala por un muro, el cual podría ser modificado en una barra americana, para darle un concepto de espacio abierto a este ambiente. \\xa0Hacia la derecha del pasillo se encuentra, inicialmente el baño social, es cual tiene ducha con cabina en vidrio templado y contiguo, está el área de la biblioteca, la cual es de un buen tamaño y podría incluso convertirse en una cuarta habitación; sobre la izquierda del pasillo se ubican dos habitaciones, ambas con closet empotrado y con muy buena iluminación; por último, la habitación principal, la cual está al fondo del corredor, es la más amplia y su ventanal también es más grandes por lo que el ambiente fresco e iluminado siempre estarán presentes, este espacio cuenta con vestier y un baño privado con las mismas características del anterior. La propiedad posee además parqueadero privado en el sótano. \\n\\nEste es un apartamento ideal para quienes desean compartir en familia momentos encantadores, con las características perfectas para brindar armonía y descanso.\\n\\nSoy agente inmobiliaria RE/MAX, si estás interesado no dudes en contactarme.\\n\\nEsta propiedad se encuentra ubicada la Loma de los Bernal, un sector tranquilo del barrio Belén, a sus alrededores se encuentra el supermercado EURO, Parque Belén Buena Vista, mirador de los Bernal, Colegio San Francisco Javier, Cerro las tres cruces, Coomeva EPS, Mall gran vía, Parque principal aliadas, Torre Médica las Américas, cuenta con un buen servicio de transporte público, entre ellos la estación \"LA PALMA BELÉN\" de la nueva línea en construcción del metroplus, lo que hace que el sector sea apetecido por aquellos que quieren vivir en un espacio de calma, naturaleza y armonía.\\n\\nLa unidad cuenta con vigilancia las 24 horas, shut de basuras, 2 ascensores por torre con planta de emergencia, circuito cerrado de televisión y cámaras. Sus áreas sociales son amplias y variadas, cuenta con 2 sitios de piscina, ambas con piscinas para adultos y para niños, sauna, turco, gimnasio bien dotado, salón social, salón de squash, pista de squite, juegos infantil, cancha multifuncional, senderos peatonales y amplias zonas verdes con jardines y árboles frutales (zapotes, naranjas, mandarinas, limones, mangos y feijoa); estos espacios son ideales para que disfrutes con tu familia y se sientan viviendo en un club o centro recreacional.\\n\\nEl apartamento se ubica en el piso 12 de la torre, diagonal a la puerta del ascensor. Al ingresar a la vivienda, lo primero que encuentras es la cocina, la cual se ubica hacia la izquierda, es integral con encimera de mármol y al fondo de esta área, se localiza la zona de ropas y lavandería de buen tamaño. El espacio de la sala y el comedor es muy amplio, se comunica con un balcón, al cual permite el ingreso de aire fresco y mucha luz natural; la cocina está separada de la sala por un muro, el cual podría ser modificado en una barra americana, para darle un concepto de espacio abierto a este ambiente. \\xa0Hacia la derecha del pasillo se encuentra, inicialmente el baño social, es cual tiene ducha con cabina en vidrio templado y contiguo, está el área de la biblioteca, la cual es de un buen tamaño y podría incluso convertirse en una cuarta habitación; sobre la izquierda del pasillo se ubican dos habitaciones, ambas con closet empotrado y con muy buena iluminación; por último, la habitación principal, la cual está al fondo del corredor, es la más amplia y su ventanal también es más grandes por lo que el ambiente fresco e iluminado siempre estarán presentes, este espacio cuenta con vestier y un baño privado con las mismas características del anterior. La propiedad posee además parqueadero privado en el sótano. \\n\\nEste es un apartamento ideal para quienes desean compartir en familia momentos encantadores, con las características perfectas para brindar armonía y descanso.\\n\\nSoy agente inmobiliaria RE/MAX, si estás interesado no dudes en contactarme.\\n'"
            ]
          },
          "execution_count": 748,
          "metadata": {},
          "output_type": "execute_result"
        }
      ],
      "source": [
        "# Visualizamos el mensaje con la descripción con máxima longitud\n",
        "data_train_text[data_train_text[\"longitud\"]==8470]['text'].iloc[0]"
      ]
    },
    {
      "cell_type": "code",
      "execution_count": 749,
      "metadata": {
        "colab": {
          "base_uri": "https://localhost:8080/",
          "height": 403
        },
        "id": "cQc_zC8ZNeYX",
        "outputId": "e695a7be-cf32-4908-9270-4c1665cb5a5f"
      },
      "outputs": [
        {
          "name": "stdout",
          "output_type": "stream",
          "text": [
            "Comparación de Longitud de texto vs Frecuencia de cada target\n"
          ]
        },
        {
          "data": {
            "image/png": "[encoded data removed]",
            "text/plain": [
              "<Figure size 1500x600 with 2 Axes>"
            ]
          },
          "metadata": {},
          "output_type": "display_data"
        }
      ],
      "source": [
        "# Visualizamos la distribución de la longitus de las descripciones en cada etiqueta para buscar algún patrón de comportamiento \n",
        "data_train_text.hist(column='longitud', bins=100, by='target', figsize=(15,6))\n",
        "print('Comparación de Longitud de texto vs Frecuencia de cada target')\n",
        "\n",
        "plt.show()"
      ]
    },
    {
      "cell_type": "markdown",
      "metadata": {
        "id": "bV6MVxKpOqcW"
      },
      "source": [
        "## Text Preprocessing"
      ]
    },
    {
      "cell_type": "code",
      "execution_count": 750,
      "metadata": {
        "colab": {
          "base_uri": "https://localhost:8080/"
        },
        "id": "IjjBWq2XOyBs",
        "outputId": "b1cff05f-0473-4ffd-8442-fc28a8b08c83"
      },
      "outputs": [
        {
          "name": "stdout",
          "output_type": "stream",
          "text": [
            "Cantidad de stopwords en español:  313\n"
          ]
        }
      ],
      "source": [
        "# Las stopwords son palabras vacías \n",
        "print('Cantidad de stopwords en español: ',len(stopwords.words('spanish')))"
      ]
    },
    {
      "cell_type": "code",
      "execution_count": 751,
      "metadata": {
        "colab": {
          "base_uri": "https://localhost:8080/",
          "height": 55
        },
        "id": "-NvP2zyPPHs2",
        "outputId": "689f2ad2-3bcd-4502-a32c-c94ca4a5abf2"
      },
      "outputs": [
        {
          "name": "stdout",
          "output_type": "stream",
          "text": [
            "Cantidad de tipos de puntuaciones en español:  32\n"
          ]
        },
        {
          "data": {
            "text/plain": [
              "'!\"#$%&\\'()*+,-./:;<=>?@[\\\\]^_`{|}~'"
            ]
          },
          "execution_count": 751,
          "metadata": {},
          "output_type": "execute_result"
        }
      ],
      "source": [
        "# Caracteres especiales\n",
        "print('Cantidad de tipos de puntuaciones en español: ',len(string.punctuation))\n",
        "string.punctuation"
      ]
    },
    {
      "cell_type": "code",
      "execution_count": 752,
      "metadata": {},
      "outputs": [],
      "source": [
        "def re_hiperlinks(text_list):\n",
        "    \"\"\"\n",
        "    Args:\n",
        "    ----------\n",
        "    text_list: list object with text content to be prepared [type: list]\n",
        "    \"\"\"\n",
        "    \n",
        "    # Applying regex\n",
        "    pattern = 'http[s]?://(?:[a-zA-Z]|[0-9]|[$-_@.&+]|[!*\\(\\),]|(?:%[0-9a-fA-F][0-9a-fA-F]))+'\n",
        "    return [re.sub(pattern, ' link ', r) for r in text_list]\n",
        "\n",
        "\n"
      ]
    },
    {
      "cell_type": "code",
      "execution_count": 753,
      "metadata": {
        "id": "E6FLuJ0LYefS"
      },
      "outputs": [],
      "source": [
        "# Función para eliminar los signos de puntuación y extraer las keywords del text de cada descripción \n",
        "def text_processing(text): \n",
        "    '''\n",
        "    Esta función elimina los signos de puntuación y las palabras vacías del texto \n",
        "    \n",
        "    Parámetros: \n",
        "    --------------\n",
        "    : param text: Texto en formato str \n",
        "\n",
        "    Return: \n",
        "    --------------\n",
        "    Lista Texto procesado en formato str\n",
        "    '''\n",
        "\n",
        "    # Creamos una lista de palabras del texto sin puntuación\n",
        "    remove = [c for c in text if c not in string.punctuation]\n",
        "\n",
        "    # Removemos caracteres especiales\n",
        "    remove = [re.sub('\\W', ' ', r) for r in text]\n",
        "\n",
        "    # Removemos saltos de linea\n",
        "    remove = [re.sub('[\\n\\r]', ' ', r) for r in text]\n",
        "\n",
        "    # Removemos hipervínculos\n",
        "    pattern = 'http[s]?://(?:[a-zA-Z]|[0-9]|[$-_@.&+]|[!*\\(\\),]|(?:%[0-9a-fA-F][0-9a-fA-F]))+'\n",
        "    remove = [re.sub(pattern, ' link ', r) for r in text]\n",
        "\n",
        "    # Unimos todas las palabras de la lista creada en un solo string\n",
        "    text = ''.join(remove)\n",
        "    \n",
        "    # Removemos stopswords, los espacio y devolvemos una lista \n",
        "    return  [c.lower() for c in text.split() if c.lower() not in stopwords.words('spanish') and c.isalpha() == True]\n",
        "    "
      ]
    },
    {
      "cell_type": "markdown",
      "metadata": {
        "id": "56JB3Nrsi9nm"
      },
      "source": [
        "## **VISUALIZACIÓN**"
      ]
    },
    {
      "cell_type": "code",
      "execution_count": 755,
      "metadata": {},
      "outputs": [],
      "source": [
        "def bolsa_palabras(dataset): \n",
        "    '''\n",
        "    Esta función se conecta vía API a una base de datos oficial \n",
        "    de Colombia para consultar el tipo de cambio en las fechas de los datos del dataset proporcionado \n",
        "    en la columna precios y los convierte de dólares (USD) a pesos colombianos (COP)\n",
        "    \n",
        "    Parámetros: \n",
        "    --------------\n",
        "    : param dataset: DataFrame que contenga los datos a analizar \n",
        "\n",
        "    Return: \n",
        "    --------------\n",
        "    Matriz de dispersión con la cantidad de filas y de vocabulario vectorizado \n",
        "    '''\n",
        "    # Vectorizamos el texto \n",
        "    cv_tranformer = CountVectorizer(analyzer=text_processing).fit(dataset['text'])\n",
        "\n",
        "    # Visualizamos la cantidad de volcabulario de las descripciones\n",
        "    print('Vocabulario en train: ',len(cv_tranformer.vocabulary_))\n",
        "\n",
        "    # Creamos la bolsa de palabras de todo el tadaset\n",
        "    bolsa_palabras = cv_tranformer.transform(dataset['text'])\n",
        "    bolsa_palabras\n",
        "\n",
        "    print(f'Forma de la matriz dispersa (filas, vocabulario): {bolsa_palabras.shape}')\n",
        "    print(f'Monto de ocurrencias diferentes a cero: {bolsa_palabras.nnz}')\n",
        "\n",
        "    # Medimos la escacez \n",
        "    escacez_train = (bolsa_palabras.nnz / (bolsa_palabras.shape[0] * bolsa_palabras.shape[1])) * 100\n",
        "    print('Escacez train: ', round(escacez_train, 2))\n",
        "\n",
        "    return cv_tranformer, bolsa_palabras\n"
      ]
    },
    {
      "cell_type": "code",
      "execution_count": null,
      "metadata": {},
      "outputs": [],
      "source": [
        "cv_tranformer =  bolsa_palabras(data_train_text)"
      ]
    },
    {
      "cell_type": "markdown",
      "metadata": {
        "id": "D95MjY1N2HDQ"
      },
      "source": [
        "## TF-IDF\n",
        "Relevancia de los datos"
      ]
    },
    {
      "cell_type": "code",
      "execution_count": 758,
      "metadata": {
        "id": "nTEIZiZi5aHh"
      },
      "outputs": [],
      "source": [
        "# Ponderamos las palabras vectorizadas con mayor relevancia en el contexto de nuestro dataset\n",
        "tfidf_transformer = TfidfTransformer().fit(bolsa_palabras(data_train_text))"
      ]
    },
    {
      "cell_type": "code",
      "execution_count": null,
      "metadata": {
        "id": "ToDne_fMEANy"
      },
      "outputs": [],
      "source": [
        "# Visualizamos un texto de referencia \n",
        "text_0 = data_train_text['text'].iloc[2]\n",
        "\n",
        "# Transformamos el texto en matriz y visualizamos la frecuencia del vocabulario en el texto de referencia\n",
        "bow_0 = cv_tranformer.transform([text_0])"
      ]
    },
    {
      "cell_type": "code",
      "execution_count": null,
      "metadata": {
        "id": "kNlxyywi6FBq"
      },
      "outputs": [],
      "source": [
        "# La asignación de relevancia de las palabras de nuestro texto de referencia\n",
        "tfidf_0 = tfidf_transformer.transform(bow_0)"
      ]
    },
    {
      "cell_type": "code",
      "execution_count": null,
      "metadata": {
        "colab": {
          "base_uri": "https://localhost:8080/"
        },
        "id": "EeDtg-eR85tr",
        "outputId": "b35e4028-555d-40b8-e53c-541192aab9cf"
      },
      "outputs": [
        {
          "name": "stdout",
          "output_type": "stream",
          "text": [
            "(191799, 75756)\n"
          ]
        }
      ],
      "source": [
        "text_tfidf = tfidf_transformer.transform(bolsa_palabras)\n",
        "print(text_tfidf.shape)"
      ]
    },
    {
      "cell_type": "markdown",
      "metadata": {
        "id": "AhVd5xkR9lIB"
      },
      "source": [
        "# NLP and Naive Bayes Model"
      ]
    },
    {
      "cell_type": "markdown",
      "metadata": {
        "id": "NVBV1LSr98uz"
      },
      "source": [
        "Pipelines"
      ]
    },
    {
      "cell_type": "code",
      "execution_count": null,
      "metadata": {
        "id": "bfaO6aD9-HDs"
      },
      "outputs": [],
      "source": [
        "# Implementación de modelo de NPL en los texto de nuestro dataset de entrenamiento\n",
        "nb = MultinomialNB().fit(text_tfidf, data_train_text['target'])"
      ]
    },
    {
      "cell_type": "code",
      "execution_count": null,
      "metadata": {
        "id": "JHX5Ylrj-RhM"
      },
      "outputs": [],
      "source": [
        "# Predicción de etiqueta de un solo elemento\n",
        "pred = nb.predict(tfidf_0)[0]\n",
        "expected = data_train_text['target'][2]"
      ]
    },
    {
      "cell_type": "code",
      "execution_count": null,
      "metadata": {
        "colab": {
          "base_uri": "https://localhost:8080/"
        },
        "id": "fWIHjDbeUiQq",
        "outputId": "745b0293-c02f-4ffb-c685-0723190140cb"
      },
      "outputs": [
        {
          "name": "stdout",
          "output_type": "stream",
          "text": [
            "Predicción: 1\n",
            "Expectativa: 1\n"
          ]
        }
      ],
      "source": [
        "# Evaluamos para nuestro ejemplo si nuestro modelo se comporta como esperamos \n",
        "print(f\"Predicción: {pred}\\nExpectativa: {expected}\")"
      ]
    },
    {
      "cell_type": "markdown",
      "metadata": {
        "id": "rYKabkt_UiQq"
      },
      "source": [
        "# Evaluación del modelo"
      ]
    },
    {
      "cell_type": "code",
      "execution_count": null,
      "metadata": {
        "id": "cZasVeBRUiQr"
      },
      "outputs": [],
      "source": [
        "# Corremos nuestro modelo en todo el dataset\n",
        "all_pred = nb.predict(text_tfidf)"
      ]
    },
    {
      "cell_type": "code",
      "execution_count": null,
      "metadata": {
        "colab": {
          "base_uri": "https://localhost:8080/"
        },
        "id": "wn9P8i7w8ohS",
        "outputId": "ebc38692-b9f0-4ff9-f296-402ee6433ca4"
      },
      "outputs": [
        {
          "data": {
            "text/plain": [
              "(191799,)"
            ]
          },
          "execution_count": 57,
          "metadata": {},
          "output_type": "execute_result"
        }
      ],
      "source": [
        "# Longitud de la matriz de predicción \n",
        "all_pred.shape"
      ]
    },
    {
      "cell_type": "code",
      "execution_count": null,
      "metadata": {
        "colab": {
          "base_uri": "https://localhost:8080/"
        },
        "id": "IqD62aHWUiQr",
        "outputId": "60731e59-c265-4dac-a4cd-cd63cf81c146"
      },
      "outputs": [
        {
          "name": "stdout",
          "output_type": "stream",
          "text": [
            "              precision    recall  f1-score   support\n",
            "\n",
            "           0       0.84      0.94      0.89    132391\n",
            "           1       0.83      0.61      0.70     59408\n",
            "\n",
            "    accuracy                           0.84    191799\n",
            "   macro avg       0.84      0.78      0.80    191799\n",
            "weighted avg       0.84      0.84      0.83    191799\n",
            "\n"
          ]
        }
      ],
      "source": [
        "# Evaluamos nuestro modelo \n",
        "print(classification_report(data_train_text['target'], all_pred))"
      ]
    },
    {
      "cell_type": "markdown",
      "metadata": {
        "id": "bPVRO1CCHkvr"
      },
      "source": [
        "# Predicción"
      ]
    },
    {
      "cell_type": "code",
      "execution_count": null,
      "metadata": {
        "id": "2pbCi0ii-zFv"
      },
      "outputs": [],
      "source": [
        "# Asignamos nuestras variables X y y de entrenamiento y prueba\n",
        "X_train, X_test, y_train = data_train_text['text'], data_train_text['text'], data_train_text['target'] "
      ]
    },
    {
      "cell_type": "markdown",
      "metadata": {
        "id": "qYi8g_7KxmlH"
      },
      "source": [
        "Multinomial"
      ]
    },
    {
      "cell_type": "code",
      "execution_count": null,
      "metadata": {
        "id": "AxM4OMCeAh38"
      },
      "outputs": [],
      "source": [
        "# # Asignamos los parámetros del modelo\n",
        "pipeline_Multinomial = Pipeline([\n",
        "    ('bow', CountVectorizer(analyzer=text_processing)),\n",
        "    ('tfidf', TfidfTransformer()),\n",
        "    ('classifier', MultinomialNB())\n",
        "])"
      ]
    },
    {
      "cell_type": "code",
      "execution_count": null,
      "metadata": {
        "colab": {
          "base_uri": "https://localhost:8080/"
        },
        "id": "hLq0knTRteUk",
        "outputId": "7883b2d4-36fa-471f-f6ba-263565cfd919"
      },
      "outputs": [
        {
          "data": {
            "text/plain": [
              "Pipeline(steps=[('bow',\n",
              "                 CountVectorizer(analyzer=<function text_processing at 0x7f9b6b48d4d0>)),\n",
              "                ('tfidf', TfidfTransformer()),\n",
              "                ('classifier', MultinomialNB())])"
            ]
          },
          "execution_count": 76,
          "metadata": {},
          "output_type": "execute_result"
        }
      ],
      "source": [
        "pipeline_Multinomial.fit(X_train, y_train)"
      ]
    },
    {
      "cell_type": "code",
      "execution_count": null,
      "metadata": {
        "id": "xtj2fqwm3iX7"
      },
      "outputs": [],
      "source": [
        "# Hacemos la clasificación de los nuevos datos \n",
        "predictions_Multinomial = pipeline_Multinomial.predict(X_test)"
      ]
    },
    {
      "cell_type": "code",
      "execution_count": null,
      "metadata": {
        "id": "-l7pLCvJ5-FW"
      },
      "outputs": [],
      "source": [
        "# Creamos el dataset de predicciones\n",
        "prediction_Multinomial = pd.DataFrame(predictions_Multinomial)\n",
        "prediction_Multinomial = prediction_Multinomial.rename({0:'pred'}, axis='columns')"
      ]
    },
    {
      "cell_type": "code",
      "execution_count": null,
      "metadata": {
        "colab": {
          "base_uri": "https://localhost:8080/",
          "height": 296
        },
        "id": "FVLr5SxF6FKN",
        "outputId": "29b4600c-28b9-4bb7-890b-2157e175d08f"
      },
      "outputs": [
        {
          "data": {
            "text/plain": [
              "<matplotlib.axes._subplots.AxesSubplot at 0x7f9b326a8a90>"
            ]
          },
          "execution_count": 80,
          "metadata": {},
          "output_type": "execute_result"
        },
        {
          "data": {
            "image/png": "[encoded data removed]",
            "text/plain": [
              "<Figure size 432x288 with 1 Axes>"
            ]
          },
          "metadata": {
            "needs_background": "light"
          },
          "output_type": "display_data"
        }
      ],
      "source": [
        "sns.countplot(x=prediction_Multinomial['pred'])"
      ]
    },
    {
      "cell_type": "code",
      "execution_count": null,
      "metadata": {
        "id": "cmx_bT936kEd"
      },
      "outputs": [],
      "source": [
        "# Exportamos el dataset de predicciones según las indicaciones solicitadas\n",
        "prediction_Multinomial.to_csv('LilaAlvesDC.csv', index=False)"
      ]
    },
    {
      "cell_type": "markdown",
      "metadata": {
        "id": "mYtanPsZxxdQ"
      },
      "source": [
        "SGDClassifier"
      ]
    },
    {
      "cell_type": "code",
      "execution_count": null,
      "metadata": {
        "id": "cnZPP0LiIV9k"
      },
      "outputs": [],
      "source": [
        "text_clf = Pipeline([\n",
        "     ('vect', CountVectorizer()),\n",
        "     ('tfidf', TfidfTransformer()),\n",
        "     ('clf', SGDClassifier(loss='hinge', penalty='l2',\n",
        "                           alpha=1e-3, random_state=42,\n",
        "                           max_iter=5, tol=None)),\n",
        " ])"
      ]
    },
    {
      "cell_type": "code",
      "execution_count": null,
      "metadata": {
        "id": "mHGGXXXKIC0B"
      },
      "outputs": [],
      "source": [
        "# Indicamos el rango de los parámetros \n",
        "parameters = {\n",
        "     'vect__ngram_range': [(1, 1), (1, 2)],\n",
        "     'tfidf__use_idf': (True, False),\n",
        "     'clf__alpha': (1e-2, 1e-3),\n",
        " }"
      ]
    },
    {
      "cell_type": "code",
      "execution_count": null,
      "metadata": {
        "id": "meqpWvN0IO9D"
      },
      "outputs": [],
      "source": [
        "# Le indicamos a la función el rango de parámetros\n",
        "gs_clf = GridSearchCV(text_clf, parameters, cv=5, n_jobs=-1)"
      ]
    },
    {
      "cell_type": "code",
      "execution_count": null,
      "metadata": {
        "id": "kKqtDeD7IHxT"
      },
      "outputs": [],
      "source": [
        "# Le damos algunos datos a la función para que encuente los parámetros más óptimos \n",
        "gs_clf = gs_clf.fit(data_train_text.text[:10000], data_train_text.target[:10000])\n",
        "gs_clf.best_score_"
      ]
    },
    {
      "cell_type": "code",
      "execution_count": null,
      "metadata": {
        "colab": {
          "base_uri": "https://localhost:8080/"
        },
        "id": "CEJXR2bYJe49",
        "outputId": "f5ca004a-d2f9-49d1-b269-43407ccd4ebd"
      },
      "outputs": [
        {
          "name": "stdout",
          "output_type": "stream",
          "text": [
            "clf__alpha: 0.001\n",
            "tfidf__use_idf: True\n",
            "vect__ngram_range: (1, 1)\n"
          ]
        }
      ],
      "source": [
        "# Visualizamos los parámetros que nos arroja \n",
        "for param_name in sorted(parameters.keys()):\n",
        "     print(\"%s: %r\" % (param_name, gs_clf.best_params_[param_name]))"
      ]
    },
    {
      "cell_type": "code",
      "execution_count": null,
      "metadata": {
        "id": "4Zn03JexKKo1"
      },
      "outputs": [],
      "source": [
        "# Definimos los parámetros de nuestro modelo \n",
        "text_clf = Pipeline([\n",
        "     ('vect', CountVectorizer()),\n",
        "     ('tfidf', TfidfTransformer()),\n",
        "     ('clf', SGDClassifier(loss='squared_hinge', penalty='l1',\n",
        "                           alpha=0.001, random_state=20,\n",
        "                           max_iter=5, tol=None)),\n",
        " ])"
      ]
    },
    {
      "cell_type": "code",
      "execution_count": null,
      "metadata": {
        "colab": {
          "base_uri": "https://localhost:8080/"
        },
        "id": "vGwVjlkcKp3V",
        "outputId": "4e57bd44-5745-42cd-e413-fd249263df87"
      },
      "outputs": [
        {
          "data": {
            "text/plain": [
              "Pipeline(steps=[('vect', CountVectorizer()), ('tfidf', TfidfTransformer()),\n",
              "                ('clf',\n",
              "                 SGDClassifier(alpha=0.001, loss='squared_hinge', max_iter=5,\n",
              "                               penalty='l1', random_state=0, tol=None))])"
            ]
          },
          "execution_count": 252,
          "metadata": {},
          "output_type": "execute_result"
        }
      ],
      "source": [
        "# Entrenamos nuestro modelo\n",
        "text_clf.fit(X_train, y_train)"
      ]
    },
    {
      "cell_type": "code",
      "execution_count": null,
      "metadata": {
        "id": "oXMHJ49bKyZm"
      },
      "outputs": [],
      "source": [
        "# Predicción con modelo SGDClassifier\n",
        "predictions_SGDClassifier = text_clf.predict(X_test)"
      ]
    },
    {
      "cell_type": "code",
      "execution_count": null,
      "metadata": {
        "id": "ULEWK3weLY71"
      },
      "outputs": [],
      "source": [
        "# Creamos el dataframe\n",
        "prediction_SGDClassifier = pd.DataFrame(predictions_SGDClassifier)"
      ]
    },
    {
      "cell_type": "code",
      "execution_count": null,
      "metadata": {
        "colab": {
          "base_uri": "https://localhost:8080/"
        },
        "id": "8C3bGdmtUiQs",
        "outputId": "6a0865c3-7e9f-482c-cd6d-05d5273a85cd"
      },
      "outputs": [
        {
          "name": "stdout",
          "output_type": "stream",
          "text": [
            "   pred\n",
            "0     1\n",
            "1     0\n",
            "2     0\n",
            "3     1\n",
            "4     0\n",
            "(65850, 1)\n"
          ]
        }
      ],
      "source": [
        "# Renombramos la columna según lo solicitado\n",
        "prediction = prediction_SGDClassifier.rename({0:'pred'}, axis='columns')\n",
        "print(prediction.head())\n",
        "print(prediction.shape)"
      ]
    },
    {
      "cell_type": "code",
      "execution_count": null,
      "metadata": {
        "colab": {
          "base_uri": "https://localhost:8080/"
        },
        "id": "q3Pgu5bjOPSL",
        "outputId": "7d6819ae-40f3-440b-d156-b2695b478bde"
      },
      "outputs": [
        {
          "name": "stdout",
          "output_type": "stream",
          "text": [
            "Propiedades baratas:  46314\n",
            "Propiedades caras:  19536\n"
          ]
        }
      ],
      "source": [
        "# Verificamos la predicción\n",
        "print('Propiedades baratas: ',len(prediction_SGDClassifier[prediction_SGDClassifier['pred'] == 0]))\n",
        "print('Propiedades caras: ', len(prediction_SGDClassifier[prediction_SGDClassifier['pred'] == 1]))"
      ]
    },
    {
      "cell_type": "code",
      "execution_count": null,
      "metadata": {
        "colab": {
          "base_uri": "https://localhost:8080/",
          "height": 296
        },
        "id": "5djdMXSUNDGb",
        "outputId": "77fe3748-e408-4bd5-b065-90cbd4c46c1b"
      },
      "outputs": [
        {
          "data": {
            "text/plain": [
              "<matplotlib.axes._subplots.AxesSubplot at 0x7f9b5d9f1210>"
            ]
          },
          "execution_count": 257,
          "metadata": {},
          "output_type": "execute_result"
        },
        {
          "data": {
            "image/png": "[encoded data removed]",
            "text/plain": [
              "<Figure size 432x288 with 1 Axes>"
            ]
          },
          "metadata": {
            "needs_background": "light"
          },
          "output_type": "display_data"
        }
      ],
      "source": [
        "# Graficamos la clasificación que realizó \n",
        "sns.countplot(x=prediction_SGDClassifier['pred'])"
      ]
    },
    {
      "cell_type": "code",
      "execution_count": null,
      "metadata": {
        "id": "HtbuBR8XUiQt"
      },
      "outputs": [],
      "source": [
        "# Exportamos el dataset de predicciones según las indicaciones solicitadas\n",
        "prediction.to_csv('LilaAlvesDC.csv', index=False)"
      ]
    },
    {
      "cell_type": "markdown",
      "metadata": {
        "id": "-Hzxd48EUiQt"
      },
      "source": [
        "# CONCLUSIÓN\n",
        "\n",
        "Nuestro dataset incluye una lista de anuncios de propiedades en Colombia en el año 2020. Nuestro modelo es capaz de identificar el vocabulario de este contexto y asociarlo a una etiqueta que le indicamos, esto es determinar si la propiedad es barata o cara, o que es lo mismo, si el precio está por encima o por debajo de la media. \n",
        "\n",
        "Analizando apenas el texto de los anuncios nuestro modelo clasifica con 75% de probabilidade de acierto. \n",
        "\n",
        "En una segunda etapa, para mejorar estos resultados podríamos ajustar la metodología segmentando los tipos de propiedades y analizando sus grupos de manera aislada, además se podría incluir un diccionario indicando el vocabulario que consideramos que tiene mayor relevancia o correlación para determinar si una propiedad es cara o barata. "
      ]
    },
    {
      "cell_type": "markdown",
      "metadata": {
        "id": "5-NKQhTHUiQt"
      },
      "source": []
    }
  ],
  "metadata": {
    "colab": {
      "collapsed_sections": [],
      "machine_shape": "hm",
      "provenance": []
    },
    "gpuClass": "premium",
    "kernelspec": {
      "display_name": "Python 3.8.10 64-bit (microsoft store)",
      "language": "python",
      "name": "python3"
    },
    "language_info": {
      "codemirror_mode": {
        "name": "ipython",
        "version": 3
      },
      "file_extension": ".py",
      "mimetype": "text/x-python",
      "name": "python",
      "nbconvert_exporter": "python",
      "pygments_lexer": "ipython3",
      "version": "3.8.10"
    },
    "vscode": {
      "interpreter": {
        "hash": "cde544f8739533cebef63bf12999052a10729ddf7c121822866b350ee78941c5"
      }
    }
  },
  "nbformat": 4,
  "nbformat_minor": 0
}
